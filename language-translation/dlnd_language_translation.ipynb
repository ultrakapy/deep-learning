{
 "cells": [
  {
   "cell_type": "markdown",
   "metadata": {
    "collapsed": true
   },
   "source": [
    "# Language Translation\n",
    "In this project, you’re going to take a peek into the realm of neural network machine translation.  You’ll be training a sequence to sequence model on a dataset of English and French sentences that can translate new sentences from English to French.\n",
    "## Get the Data\n",
    "Since translating the whole language of English to French will take lots of time to train, we have provided you with a small portion of the English corpus."
   ]
  },
  {
   "cell_type": "code",
   "execution_count": 1,
   "metadata": {
    "collapsed": true
   },
   "outputs": [],
   "source": [
    "\"\"\"\n",
    "DON'T MODIFY ANYTHING IN THIS CELL\n",
    "\"\"\"\n",
    "import helper\n",
    "import problem_unittests as tests\n",
    "\n",
    "source_path = 'data/small_vocab_en'\n",
    "target_path = 'data/small_vocab_fr'\n",
    "source_text = helper.load_data(source_path)\n",
    "target_text = helper.load_data(target_path)"
   ]
  },
  {
   "cell_type": "markdown",
   "metadata": {},
   "source": [
    "## Explore the Data\n",
    "Play around with view_sentence_range to view different parts of the data."
   ]
  },
  {
   "cell_type": "code",
   "execution_count": 2,
   "metadata": {
    "collapsed": false
   },
   "outputs": [
    {
     "name": "stdout",
     "output_type": "stream",
     "text": [
      "Dataset Stats\n",
      "Roughly the number of unique words: 227\n",
      "Number of sentences: 137861\n",
      "Average number of words in a sentence: 13.225277634719028\n",
      "\n",
      "English sentences 22 to 32:\n",
      "india is never busy during autumn , and it is mild in spring .\n",
      "paris is mild during summer , but it is usually busy in april .\n",
      "france is never cold during september , and it is snowy in october .\n",
      "california is never cold during may , and it is sometimes chilly in march .\n",
      "he dislikes lemons , grapes , and mangoes.\n",
      "their favorite fruit is the mango , but our favorite is the pear .\n",
      "france is sometimes quiet during may , and it is never chilly in august .\n",
      "paris is never pleasant during september , and it is beautiful in autumn .\n",
      "he dislikes apples , peaches , and grapes .\n",
      "california is usually freezing during december , and it is busy in april .\n",
      "\n",
      "French sentences 22 to 32:\n",
      "l' inde est jamais occupé à l'automne , et il est doux au printemps .\n",
      "paris est doux pendant l' été , mais il est généralement occupé en avril .\n",
      "france ne fait jamais froid en septembre , et il est neigeux en octobre .\n",
      "californie ne fait jamais froid au mois de mai , et il est parfois frisquet en mars .\n",
      "il déteste les citrons , les raisins et les mangues .\n",
      "leur fruit préféré est la mangue , mais notre préféré est la poire .\n",
      "la france est parfois calme au mois de mai , et il est jamais froid en août .\n",
      "paris est jamais agréable en septembre , et il est beau à l' automne .\n",
      "il déteste les pommes , les pêches et les raisins .\n",
      "la californie est le gel habituellement en décembre , et il est occupé en avril .\n"
     ]
    }
   ],
   "source": [
    "view_sentence_range = (22, 32)\n",
    "\n",
    "\"\"\"\n",
    "DON'T MODIFY ANYTHING IN THIS CELL\n",
    "\"\"\"\n",
    "import numpy as np\n",
    "\n",
    "print('Dataset Stats')\n",
    "print('Roughly the number of unique words: {}'.format(len({word: None for word in source_text.split()})))\n",
    "\n",
    "sentences = source_text.split('\\n')\n",
    "word_counts = [len(sentence.split()) for sentence in sentences]\n",
    "print('Number of sentences: {}'.format(len(sentences)))\n",
    "print('Average number of words in a sentence: {}'.format(np.average(word_counts)))\n",
    "\n",
    "print()\n",
    "print('English sentences {} to {}:'.format(*view_sentence_range))\n",
    "print('\\n'.join(source_text.split('\\n')[view_sentence_range[0]:view_sentence_range[1]]))\n",
    "print()\n",
    "print('French sentences {} to {}:'.format(*view_sentence_range))\n",
    "print('\\n'.join(target_text.split('\\n')[view_sentence_range[0]:view_sentence_range[1]]))"
   ]
  },
  {
   "cell_type": "markdown",
   "metadata": {},
   "source": [
    "## Implement Preprocessing Function\n",
    "### Text to Word Ids\n",
    "As you did with other RNNs, you must turn the text into a number so the computer can understand it. In the function `text_to_ids()`, you'll turn `source_text` and `target_text` from words to ids.  However, you need to add the `<EOS>` word id at the end of `target_text`.  This will help the neural network predict when the sentence should end.\n",
    "\n",
    "You can get the `<EOS>` word id by doing:\n",
    "```python\n",
    "target_vocab_to_int['<EOS>']\n",
    "```\n",
    "You can get other word ids using `source_vocab_to_int` and `target_vocab_to_int`."
   ]
  },
  {
   "cell_type": "code",
   "execution_count": 3,
   "metadata": {
    "collapsed": false
   },
   "outputs": [
    {
     "name": "stdout",
     "output_type": "stream",
     "text": [
      "Tests Passed\n"
     ]
    }
   ],
   "source": [
    "def text_to_ids(source_text, target_text, source_vocab_to_int, target_vocab_to_int):\n",
    "    \"\"\"\n",
    "    Convert source and target text to proper word ids\n",
    "    :param source_text: String that contains all the source text.\n",
    "    :param target_text: String that contains all the target text.\n",
    "    :param source_vocab_to_int: Dictionary to go from the source words to an id\n",
    "    :param target_vocab_to_int: Dictionary to go from the target words to an id\n",
    "    :return: A tuple of lists (source_id_text, target_id_text)\n",
    "    \"\"\"\n",
    "    # TODO: Implement Function\n",
    "    source_sentences = [sentence for sentence in source_text.split('\\n')]\n",
    "    target_sentences = [sentence for sentence in target_text.split('\\n')]\n",
    "    \n",
    "    source_id_text = []\n",
    "    for ss in source_sentences:\n",
    "        source_id_text.append([source_vocab_to_int.get(word) for word in ss.split()])\n",
    "        \n",
    "    target_id_text = []\n",
    "    for st in target_sentences:\n",
    "        target_id_text.append([target_vocab_to_int.get(word) for word in st.split()])\n",
    "        target_id_text[-1].append(target_vocab_to_int['<EOS>'])\n",
    "    \n",
    "    #source_id_text = [source_vocab_to_int.get(word) for word in source_text.split()]\n",
    "    #source_id_text.append(source_vocab_to_int['<EOS>'])\n",
    "    #target_id_text = [target_vocab_to_int.get(word) for word in target_text.split()]\n",
    "    #target_id_text.append(target_vocab_to_int['<EOS>'])\n",
    "    #print(len(source_id_text))\n",
    "    #print(source_text)\n",
    "    #print(source_id_text)\n",
    "    #print(target_id_text)\n",
    "    #print(source_vocab_to_int)\n",
    "    #print(target_vocab_to_int)\n",
    "    #source_set_chars = set([character for line in source_text.split('\\n') for character in line])\n",
    "    #target_set_chars = set([character for line in target_text.split('\\n') for character in line])\n",
    "    #print(target_set_chars)\n",
    "    #print(source_vocab_to_int['<EOS>'])\n",
    "    #print(source_text)\n",
    "    return source_id_text, target_id_text\n",
    "\n",
    "\"\"\"\n",
    "DON'T MODIFY ANYTHING IN THIS CELL THAT IS BELOW THIS LINE\n",
    "\"\"\"\n",
    "tests.test_text_to_ids(text_to_ids)"
   ]
  },
  {
   "cell_type": "markdown",
   "metadata": {},
   "source": [
    "### Preprocess all the data and save it\n",
    "Running the code cell below will preprocess all the data and save it to file."
   ]
  },
  {
   "cell_type": "code",
   "execution_count": 4,
   "metadata": {
    "collapsed": true
   },
   "outputs": [],
   "source": [
    "\"\"\"\n",
    "DON'T MODIFY ANYTHING IN THIS CELL\n",
    "\"\"\"\n",
    "helper.preprocess_and_save_data(source_path, target_path, text_to_ids)"
   ]
  },
  {
   "cell_type": "markdown",
   "metadata": {},
   "source": [
    "# Check Point\n",
    "This is your first checkpoint. If you ever decide to come back to this notebook or have to restart the notebook, you can start from here. The preprocessed data has been saved to disk."
   ]
  },
  {
   "cell_type": "code",
   "execution_count": 5,
   "metadata": {
    "collapsed": true
   },
   "outputs": [],
   "source": [
    "\"\"\"\n",
    "DON'T MODIFY ANYTHING IN THIS CELL\n",
    "\"\"\"\n",
    "import numpy as np\n",
    "import helper\n",
    "import problem_unittests as tests\n",
    "\n",
    "(source_int_text, target_int_text), (source_vocab_to_int, target_vocab_to_int), _ = helper.load_preprocess()"
   ]
  },
  {
   "cell_type": "markdown",
   "metadata": {},
   "source": [
    "### Check the Version of TensorFlow and Access to GPU\n",
    "This will check to make sure you have the correct version of TensorFlow and access to a GPU"
   ]
  },
  {
   "cell_type": "code",
   "execution_count": 6,
   "metadata": {
    "collapsed": false
   },
   "outputs": [
    {
     "name": "stdout",
     "output_type": "stream",
     "text": [
      "TensorFlow Version: 1.3.0\n"
     ]
    },
    {
     "name": "stderr",
     "output_type": "stream",
     "text": [
      "/home/kapy/anaconda3/envs/dlnd-tf-lab/lib/python3.5/site-packages/ipykernel/__main__.py:15: UserWarning: No GPU found. Please use a GPU to train your neural network.\n"
     ]
    }
   ],
   "source": [
    "\"\"\"\n",
    "DON'T MODIFY ANYTHING IN THIS CELL\n",
    "\"\"\"\n",
    "from distutils.version import LooseVersion\n",
    "import warnings\n",
    "import tensorflow as tf\n",
    "from tensorflow.python.layers.core import Dense\n",
    "\n",
    "# Check TensorFlow Version\n",
    "assert LooseVersion(tf.__version__) >= LooseVersion('1.1'), 'Please use TensorFlow version 1.1 or newer'\n",
    "print('TensorFlow Version: {}'.format(tf.__version__))\n",
    "\n",
    "# Check for a GPU\n",
    "if not tf.test.gpu_device_name():\n",
    "    warnings.warn('No GPU found. Please use a GPU to train your neural network.')\n",
    "else:\n",
    "    print('Default GPU Device: {}'.format(tf.test.gpu_device_name()))"
   ]
  },
  {
   "cell_type": "markdown",
   "metadata": {},
   "source": [
    "## Build the Neural Network\n",
    "You'll build the components necessary to build a Sequence-to-Sequence model by implementing the following functions below:\n",
    "- `model_inputs`\n",
    "- `process_decoder_input`\n",
    "- `encoding_layer`\n",
    "- `decoding_layer_train`\n",
    "- `decoding_layer_infer`\n",
    "- `decoding_layer`\n",
    "- `seq2seq_model`\n",
    "\n",
    "### Input\n",
    "Implement the `model_inputs()` function to create TF Placeholders for the Neural Network. It should create the following placeholders:\n",
    "\n",
    "- Input text placeholder named \"input\" using the TF Placeholder name parameter with rank 2.\n",
    "- Targets placeholder with rank 2.\n",
    "- Learning rate placeholder with rank 0.\n",
    "- Keep probability placeholder named \"keep_prob\" using the TF Placeholder name parameter with rank 0.\n",
    "- Target sequence length placeholder named \"target_sequence_length\" with rank 1\n",
    "- Max target sequence length tensor named \"max_target_len\" getting its value from applying tf.reduce_max on the target_sequence_length placeholder. Rank 0.\n",
    "- Source sequence length placeholder named \"source_sequence_length\" with rank 1\n",
    "\n",
    "Return the placeholders in the following the tuple (input, targets, learning rate, keep probability, target sequence length, max target sequence length, source sequence length)"
   ]
  },
  {
   "cell_type": "code",
   "execution_count": 7,
   "metadata": {
    "collapsed": false
   },
   "outputs": [
    {
     "name": "stdout",
     "output_type": "stream",
     "text": [
      "Tests Passed\n"
     ]
    }
   ],
   "source": [
    "def model_inputs():\n",
    "    \"\"\"\n",
    "    Create TF Placeholders for input, targets, learning rate, and lengths of source and target sequences.\n",
    "    :return: Tuple (input, targets, learning rate, keep probability, target sequence length,\n",
    "    max target sequence length, source sequence length)\n",
    "    \"\"\"\n",
    "    # TODO: Implement Function\n",
    "    input = tf.placeholder(tf.int32, [None, None], name='input')\n",
    "    targets = tf.placeholder(tf.int32, [None, None], name='targets')\n",
    "    learning_rate = tf.placeholder(tf.float32, name='learning_rate', shape=())\n",
    "    keep_prob = tf.placeholder(tf.float32, name='keep_prob', shape=())\n",
    "    target_sequence_length = tf.placeholder(tf.int32, (None,), name='target_sequence_length')\n",
    "    max_target_len = tf.reduce_max(target_sequence_length, name='max_target_len')\n",
    "    source_sequence_length = tf.placeholder(tf.int32, (None,), name='source_sequence_length')\n",
    "    \n",
    "    return input, targets, learning_rate, keep_prob, target_sequence_length, max_target_len, source_sequence_length\n",
    "\n",
    "\n",
    "\"\"\"\n",
    "DON'T MODIFY ANYTHING IN THIS CELL THAT IS BELOW THIS LINE\n",
    "\"\"\"\n",
    "tests.test_model_inputs(model_inputs)"
   ]
  },
  {
   "cell_type": "markdown",
   "metadata": {},
   "source": [
    "### Process Decoder Input\n",
    "Implement `process_decoder_input` by removing the last word id from each batch in `target_data` and concat the GO ID to the begining of each batch."
   ]
  },
  {
   "cell_type": "code",
   "execution_count": 8,
   "metadata": {
    "collapsed": false
   },
   "outputs": [
    {
     "name": "stdout",
     "output_type": "stream",
     "text": [
      "Tests Passed\n"
     ]
    }
   ],
   "source": [
    "def process_decoder_input(target_data, target_vocab_to_int, batch_size):\n",
    "    \"\"\"\n",
    "    Preprocess target data for encoding\n",
    "    :param target_data: Target Placehoder\n",
    "    :param target_vocab_to_int: Dictionary to go from the target words to an id\n",
    "    :param batch_size: Batch Size\n",
    "    :return: Preprocessed target data\n",
    "    \"\"\"\n",
    "    # TODO: Implement Function\n",
    "    ending = tf.strided_slice(target_data, [0, 0], [batch_size, -1], [1, 1])\n",
    "    dec_input = tf.concat([tf.fill([batch_size, 1], target_vocab_to_int['<GO>']), ending], 1)\n",
    "    \n",
    "    return dec_input\n",
    "\n",
    "\"\"\"\n",
    "DON'T MODIFY ANYTHING IN THIS CELL THAT IS BELOW THIS LINE\n",
    "\"\"\"\n",
    "tests.test_process_encoding_input(process_decoder_input)"
   ]
  },
  {
   "cell_type": "markdown",
   "metadata": {},
   "source": [
    "### Encoding\n",
    "Implement `encoding_layer()` to create a Encoder RNN layer:\n",
    " * Embed the encoder input using [`tf.contrib.layers.embed_sequence`](https://www.tensorflow.org/api_docs/python/tf/contrib/layers/embed_sequence)\n",
    " * Construct a [stacked](https://github.com/tensorflow/tensorflow/blob/6947f65a374ebf29e74bb71e36fd82760056d82c/tensorflow/docs_src/tutorials/recurrent.md#stacking-multiple-lstms) [`tf.contrib.rnn.LSTMCell`](https://www.tensorflow.org/api_docs/python/tf/contrib/rnn/LSTMCell) wrapped in a [`tf.contrib.rnn.DropoutWrapper`](https://www.tensorflow.org/api_docs/python/tf/contrib/rnn/DropoutWrapper)\n",
    " * Pass cell and embedded input to [`tf.nn.dynamic_rnn()`](https://www.tensorflow.org/api_docs/python/tf/nn/dynamic_rnn)"
   ]
  },
  {
   "cell_type": "code",
   "execution_count": 9,
   "metadata": {
    "collapsed": false,
    "scrolled": false
   },
   "outputs": [
    {
     "name": "stdout",
     "output_type": "stream",
     "text": [
      "Tests Passed\n"
     ]
    }
   ],
   "source": [
    "from imp import reload\n",
    "reload(tests)\n",
    "\n",
    "def encoding_layer(rnn_inputs, rnn_size, num_layers, keep_prob, \n",
    "                   source_sequence_length, source_vocab_size, \n",
    "                   encoding_embedding_size):\n",
    "    \"\"\"\n",
    "    Create encoding layer\n",
    "    :param rnn_inputs: Inputs for the RNN\n",
    "    :param rnn_size: RNN Size\n",
    "    :param num_layers: Number of layers\n",
    "    :param keep_prob: Dropout keep probability\n",
    "    :param source_sequence_length: a list of the lengths of each sequence in the batch\n",
    "    :param source_vocab_size: vocabulary size of source data\n",
    "    :param encoding_embedding_size: embedding size of source data\n",
    "    :return: tuple (RNN output, RNN state)\n",
    "    \"\"\"\n",
    "    # TODO: Implement Function\n",
    "    enc_embed_input = tf.contrib.layers.embed_sequence(rnn_inputs, source_vocab_size, encoding_embedding_size)\n",
    "\n",
    "    def make_cell(rnn_size):\n",
    "        enc_cell = tf.contrib.rnn.LSTMCell(rnn_size,\n",
    "                                           initializer=tf.random_uniform_initializer(-0.1, 0.1, seed=2))\n",
    "        enc_cell = tf.contrib.rnn.DropoutWrapper(enc_cell, output_keep_prob=keep_prob)\n",
    "        return enc_cell\n",
    "\n",
    "    enc_cell = tf.contrib.rnn.MultiRNNCell([make_cell(rnn_size) for _ in range(num_layers)])\n",
    "    \n",
    "    enc_output, enc_state = tf.nn.dynamic_rnn(enc_cell, enc_embed_input, sequence_length=source_sequence_length, dtype=tf.float32)\n",
    "    \n",
    "    return enc_output, enc_state\n",
    "\n",
    "\"\"\"\n",
    "DON'T MODIFY ANYTHING IN THIS CELL THAT IS BELOW THIS LINE\n",
    "\"\"\"\n",
    "tests.test_encoding_layer(encoding_layer)"
   ]
  },
  {
   "cell_type": "markdown",
   "metadata": {},
   "source": [
    "### Decoding - Training\n",
    "Create a training decoding layer:\n",
    "* Create a [`tf.contrib.seq2seq.TrainingHelper`](https://www.tensorflow.org/api_docs/python/tf/contrib/seq2seq/TrainingHelper) \n",
    "* Create a [`tf.contrib.seq2seq.BasicDecoder`](https://www.tensorflow.org/api_docs/python/tf/contrib/seq2seq/BasicDecoder)\n",
    "* Obtain the decoder outputs from [`tf.contrib.seq2seq.dynamic_decode`](https://www.tensorflow.org/api_docs/python/tf/contrib/seq2seq/dynamic_decode)"
   ]
  },
  {
   "cell_type": "code",
   "execution_count": 10,
   "metadata": {
    "collapsed": false
   },
   "outputs": [
    {
     "name": "stdout",
     "output_type": "stream",
     "text": [
      "Tests Passed\n"
     ]
    }
   ],
   "source": [
    "\n",
    "def decoding_layer_train(encoder_state, dec_cell, dec_embed_input, \n",
    "                         target_sequence_length, max_summary_length, \n",
    "                         output_layer, keep_prob):\n",
    "    \"\"\"\n",
    "    Create a decoding layer for training\n",
    "    :param encoder_state: Encoder State\n",
    "    :param dec_cell: Decoder RNN Cell\n",
    "    :param dec_embed_input: Decoder embedded input\n",
    "    :param target_sequence_length: The lengths of each sequence in the target batch\n",
    "    :param max_summary_length: The length of the longest sequence in the batch\n",
    "    :param output_layer: Function to apply the output layer\n",
    "    :param keep_prob: Dropout keep probability\n",
    "    :return: BasicDecoderOutput containing training logits and sample_id\n",
    "    \"\"\"\n",
    "    # TODO: Implement Function\n",
    "    training_helper = tf.contrib.seq2seq.TrainingHelper(inputs=dec_embed_input,\n",
    "                                                        sequence_length=target_sequence_length,\n",
    "                                                        time_major=False)\n",
    "    training_decoder = tf.contrib.seq2seq.BasicDecoder(dec_cell,\n",
    "                                                        training_helper,\n",
    "                                                        encoder_state,\n",
    "                                                        output_layer)\n",
    "    training_decoder_output = tf.contrib.seq2seq.dynamic_decode(training_decoder,\n",
    "                                                                impute_finished=True,\n",
    "                                                                maximum_iterations=max_summary_length)[0]\n",
    "    \n",
    "    return training_decoder_output\n",
    "\n",
    "\n",
    "\n",
    "\"\"\"\n",
    "DON'T MODIFY ANYTHING IN THIS CELL THAT IS BELOW THIS LINE\n",
    "\"\"\"\n",
    "tests.test_decoding_layer_train(decoding_layer_train)"
   ]
  },
  {
   "cell_type": "markdown",
   "metadata": {},
   "source": [
    "### Decoding - Inference\n",
    "Create inference decoder:\n",
    "* Create a [`tf.contrib.seq2seq.GreedyEmbeddingHelper`](https://www.tensorflow.org/api_docs/python/tf/contrib/seq2seq/GreedyEmbeddingHelper)\n",
    "* Create a [`tf.contrib.seq2seq.BasicDecoder`](https://www.tensorflow.org/api_docs/python/tf/contrib/seq2seq/BasicDecoder)\n",
    "* Obtain the decoder outputs from [`tf.contrib.seq2seq.dynamic_decode`](https://www.tensorflow.org/api_docs/python/tf/contrib/seq2seq/dynamic_decode)"
   ]
  },
  {
   "cell_type": "code",
   "execution_count": 11,
   "metadata": {
    "collapsed": false,
    "scrolled": true
   },
   "outputs": [
    {
     "name": "stdout",
     "output_type": "stream",
     "text": [
      "Tests Passed\n"
     ]
    }
   ],
   "source": [
    "def decoding_layer_infer(encoder_state, dec_cell, dec_embeddings, start_of_sequence_id,\n",
    "                         end_of_sequence_id, max_target_sequence_length,\n",
    "                         vocab_size, output_layer, batch_size, keep_prob):\n",
    "    \"\"\"\n",
    "    Create a decoding layer for inference\n",
    "    :param encoder_state: Encoder state\n",
    "    :param dec_cell: Decoder RNN Cell\n",
    "    :param dec_embeddings: Decoder embeddings\n",
    "    :param start_of_sequence_id: GO ID\n",
    "    :param end_of_sequence_id: EOS Id\n",
    "    :param max_target_sequence_length: Maximum length of target sequences\n",
    "    :param vocab_size: Size of decoder/target vocabulary\n",
    "    :param decoding_scope: TenorFlow Variable Scope for decoding\n",
    "    :param output_layer: Function to apply the output layer\n",
    "    :param batch_size: Batch size\n",
    "    :param keep_prob: Dropout keep probability\n",
    "    :return: BasicDecoderOutput containing inference logits and sample_id\n",
    "    \"\"\"\n",
    "    # TODO: Implement Function\n",
    "    start_tokens = tf.tile(tf.constant([start_of_sequence_id], dtype=tf.int32), [batch_size], name='start_tokens')\n",
    "    inference_helper = tf.contrib.seq2seq.GreedyEmbeddingHelper(dec_embeddings,\n",
    "                                                                start_tokens,\n",
    "                                                                end_of_sequence_id)\n",
    "    inference_decoder = tf.contrib.seq2seq.BasicDecoder(dec_cell,\n",
    "                                                        inference_helper,\n",
    "                                                        encoder_state,\n",
    "                                                        output_layer)\n",
    "    inference_decoder_output = tf.contrib.seq2seq.dynamic_decode(inference_decoder,\n",
    "                                                            impute_finished=True,\n",
    "                                                            maximum_iterations=max_target_sequence_length)[0]\n",
    "    \n",
    "    return inference_decoder_output\n",
    "\n",
    "\n",
    "\n",
    "\"\"\"\n",
    "DON'T MODIFY ANYTHING IN THIS CELL THAT IS BELOW THIS LINE\n",
    "\"\"\"\n",
    "tests.test_decoding_layer_infer(decoding_layer_infer)"
   ]
  },
  {
   "cell_type": "markdown",
   "metadata": {},
   "source": [
    "### Build the Decoding Layer\n",
    "Implement `decoding_layer()` to create a Decoder RNN layer.\n",
    "\n",
    "* Embed the target sequences\n",
    "* Construct the decoder LSTM cell (just like you constructed the encoder cell above)\n",
    "* Create an output layer to map the outputs of the decoder to the elements of our vocabulary\n",
    "* Use the your `decoding_layer_train(encoder_state, dec_cell, dec_embed_input, target_sequence_length, max_target_sequence_length, output_layer, keep_prob)` function to get the training logits.\n",
    "* Use your `decoding_layer_infer(encoder_state, dec_cell, dec_embeddings, start_of_sequence_id, end_of_sequence_id, max_target_sequence_length, vocab_size, output_layer, batch_size, keep_prob)` function to get the inference logits.\n",
    "\n",
    "Note: You'll need to use [tf.variable_scope](https://www.tensorflow.org/api_docs/python/tf/variable_scope) to share variables between training and inference."
   ]
  },
  {
   "cell_type": "code",
   "execution_count": 12,
   "metadata": {
    "collapsed": false
   },
   "outputs": [
    {
     "name": "stdout",
     "output_type": "stream",
     "text": [
      "Tests Passed\n"
     ]
    }
   ],
   "source": [
    "def decoding_layer(dec_input, encoder_state,\n",
    "                   target_sequence_length, max_target_sequence_length,\n",
    "                   rnn_size,\n",
    "                   num_layers, target_vocab_to_int, target_vocab_size,\n",
    "                   batch_size, keep_prob, decoding_embedding_size):\n",
    "    \"\"\"\n",
    "    Create decoding layer\n",
    "    :param dec_input: Decoder input\n",
    "    :param encoder_state: Encoder state\n",
    "    :param target_sequence_length: The lengths of each sequence in the target batch\n",
    "    :param max_target_sequence_length: Maximum length of target sequences\n",
    "    :param rnn_size: RNN Size\n",
    "    :param num_layers: Number of layers\n",
    "    :param target_vocab_to_int: Dictionary to go from the target words to an id\n",
    "    :param target_vocab_size: Size of target vocabulary\n",
    "    :param batch_size: The size of the batch\n",
    "    :param keep_prob: Dropout keep probability\n",
    "    :param decoding_embedding_size: Decoding embedding size\n",
    "    :return: Tuple of (Training BasicDecoderOutput, Inference BasicDecoderOutput)\n",
    "    \"\"\"\n",
    "    # TODO: Implement Function    \n",
    "    #dec_embed_input = tf.contrib.layers.embed_sequence(dec_input, target_vocab_size, decoding_embedding_size)\n",
    "    dec_embeddings = tf.Variable(tf.random_uniform([target_vocab_size, decoding_embedding_size]))\n",
    "    dec_embed_input = tf.nn.embedding_lookup(dec_embeddings, dec_input)\n",
    "\n",
    "    def make_cell2(rnn_size):\n",
    "        dec_cell = tf.contrib.rnn.LSTMCell(rnn_size,\n",
    "                                           initializer=tf.random_uniform_initializer(-0.1, 0.1, seed=2))\n",
    "        dec_cell = tf.contrib.rnn.DropoutWrapper(dec_cell, output_keep_prob=keep_prob)\n",
    "        return dec_cell\n",
    "\n",
    "    dec_cell = tf.contrib.rnn.MultiRNNCell([make_cell2(rnn_size) for _ in range(num_layers)])\n",
    "    \n",
    "    dec_output, dec_state = tf.nn.dynamic_rnn(dec_cell, dec_embed_input, sequence_length=target_sequence_length, dtype=tf.float32, scope=\"decode\")\n",
    "\n",
    "    output_layer = Dense(target_vocab_size,\n",
    "                         kernel_initializer = tf.truncated_normal_initializer(mean = 0.0, stddev=0.1))\n",
    "    \n",
    "    with tf.variable_scope(\"decode\"):\n",
    "        training_decoder_output = decoding_layer_train(encoder_state, dec_cell, dec_embed_input, target_sequence_length, max_target_sequence_length, output_layer, keep_prob)\n",
    "    \n",
    "    with tf.variable_scope(\"decode\", reuse=True):\n",
    "        start_of_sequence_id = target_vocab_to_int['<GO>']\n",
    "        end_of_sequence_id = target_vocab_to_int['<EOS>']\n",
    "        inference_decoder_output = decoding_layer_infer(encoder_state, dec_cell, dec_embeddings, start_of_sequence_id, end_of_sequence_id, max_target_sequence_length, target_vocab_size, output_layer, batch_size, keep_prob)\n",
    "    \n",
    "    return training_decoder_output, inference_decoder_output\n",
    "\n",
    "\n",
    "\n",
    "\"\"\"\n",
    "DON'T MODIFY ANYTHING IN THIS CELL THAT IS BELOW THIS LINE\n",
    "\"\"\"\n",
    "tests.test_decoding_layer(decoding_layer)"
   ]
  },
  {
   "cell_type": "markdown",
   "metadata": {},
   "source": [
    "### Build the Neural Network\n",
    "Apply the functions you implemented above to:\n",
    "\n",
    "- Encode the input using your `encoding_layer(rnn_inputs, rnn_size, num_layers, keep_prob,  source_sequence_length, source_vocab_size, encoding_embedding_size)`.\n",
    "- Process target data using your `process_decoder_input(target_data, target_vocab_to_int, batch_size)` function.\n",
    "- Decode the encoded input using your `decoding_layer(dec_input, enc_state, target_sequence_length, max_target_sentence_length, rnn_size, num_layers, target_vocab_to_int, target_vocab_size, batch_size, keep_prob, dec_embedding_size)` function."
   ]
  },
  {
   "cell_type": "code",
   "execution_count": 13,
   "metadata": {
    "collapsed": false
   },
   "outputs": [
    {
     "name": "stdout",
     "output_type": "stream",
     "text": [
      "Tests Passed\n"
     ]
    }
   ],
   "source": [
    "def seq2seq_model(input_data, target_data, keep_prob, batch_size,\n",
    "                  source_sequence_length, target_sequence_length,\n",
    "                  max_target_sentence_length,\n",
    "                  source_vocab_size, target_vocab_size,\n",
    "                  enc_embedding_size, dec_embedding_size,\n",
    "                  rnn_size, num_layers, target_vocab_to_int):\n",
    "    \"\"\"\n",
    "    Build the Sequence-to-Sequence part of the neural network\n",
    "    :param input_data: Input placeholder\n",
    "    :param target_data: Target placeholder\n",
    "    :param keep_prob: Dropout keep probability placeholder\n",
    "    :param batch_size: Batch Size\n",
    "    :param source_sequence_length: Sequence Lengths of source sequences in the batch\n",
    "    :param target_sequence_length: Sequence Lengths of target sequences in the batch\n",
    "    :param source_vocab_size: Source vocabulary size\n",
    "    :param target_vocab_size: Target vocabulary size\n",
    "    :param enc_embedding_size: Decoder embedding size\n",
    "    :param dec_embedding_size: Encoder embedding size\n",
    "    :param rnn_size: RNN Size\n",
    "    :param num_layers: Number of layers\n",
    "    :param target_vocab_to_int: Dictionary to go from the target words to an id\n",
    "    :return: Tuple of (Training BasicDecoderOutput, Inference BasicDecoderOutput)\n",
    "    \"\"\"\n",
    "    # TODO: Implement Function\n",
    "    enc_output, enc_state = encoding_layer(input_data, rnn_size, num_layers, keep_prob,  \n",
    "                                           source_sequence_length, source_vocab_size, enc_embedding_size)\n",
    "    \n",
    "    dec_input = process_decoder_input(target_data, target_vocab_to_int, batch_size)\n",
    "    \n",
    "    training_decoder_output, inference_decoder_output = decoding_layer(dec_input, enc_state, target_sequence_length,\n",
    "                                                                       max_target_sentence_length, rnn_size, num_layers, \n",
    "                                                                       target_vocab_to_int, target_vocab_size, batch_size, \n",
    "                                                                       keep_prob, dec_embedding_size)\n",
    "    \n",
    "    return training_decoder_output, inference_decoder_output\n",
    "\n",
    "\n",
    "\"\"\"\n",
    "DON'T MODIFY ANYTHING IN THIS CELL THAT IS BELOW THIS LINE\n",
    "\"\"\"\n",
    "tests.test_seq2seq_model(seq2seq_model)"
   ]
  },
  {
   "cell_type": "markdown",
   "metadata": {},
   "source": [
    "## Neural Network Training\n",
    "### Hyperparameters\n",
    "Tune the following parameters:\n",
    "\n",
    "- Set `epochs` to the number of epochs.\n",
    "- Set `batch_size` to the batch size.\n",
    "- Set `rnn_size` to the size of the RNNs.\n",
    "- Set `num_layers` to the number of layers.\n",
    "- Set `encoding_embedding_size` to the size of the embedding for the encoder.\n",
    "- Set `decoding_embedding_size` to the size of the embedding for the decoder.\n",
    "- Set `learning_rate` to the learning rate.\n",
    "- Set `keep_probability` to the Dropout keep probability\n",
    "- Set `display_step` to state how many steps between each debug output statement"
   ]
  },
  {
   "cell_type": "code",
   "execution_count": 26,
   "metadata": {
    "collapsed": true
   },
   "outputs": [],
   "source": [
    "# Number of Epochs\n",
    "epochs = 10\n",
    "# Batch Size\n",
    "batch_size = 128\n",
    "# RNN Size\n",
    "rnn_size = 50\n",
    "# Number of Layers\n",
    "num_layers = 2\n",
    "# Embedding Size\n",
    "encoding_embedding_size = 15\n",
    "decoding_embedding_size = 15\n",
    "# Learning Rate\n",
    "learning_rate = 0.01\n",
    "# Dropout Keep Probability\n",
    "keep_probability = 0.95\n",
    "display_step = 50"
   ]
  },
  {
   "cell_type": "markdown",
   "metadata": {},
   "source": [
    "### Build the Graph\n",
    "Build the graph using the neural network you implemented."
   ]
  },
  {
   "cell_type": "code",
   "execution_count": 27,
   "metadata": {
    "collapsed": true
   },
   "outputs": [],
   "source": [
    "\"\"\"\n",
    "DON'T MODIFY ANYTHING IN THIS CELL\n",
    "\"\"\"\n",
    "save_path = 'checkpoints/dev'\n",
    "(source_int_text, target_int_text), (source_vocab_to_int, target_vocab_to_int), _ = helper.load_preprocess()\n",
    "max_target_sentence_length = max([len(sentence) for sentence in source_int_text])\n",
    "\n",
    "train_graph = tf.Graph()\n",
    "with train_graph.as_default():\n",
    "    input_data, targets, lr, keep_prob, target_sequence_length, max_target_sequence_length, source_sequence_length = model_inputs()\n",
    "\n",
    "    #sequence_length = tf.placeholder_with_default(max_target_sentence_length, None, name='sequence_length')\n",
    "    input_shape = tf.shape(input_data)\n",
    "\n",
    "    train_logits, inference_logits = seq2seq_model(tf.reverse(input_data, [-1]),\n",
    "                                                   targets,\n",
    "                                                   keep_prob,\n",
    "                                                   batch_size,\n",
    "                                                   source_sequence_length,\n",
    "                                                   target_sequence_length,\n",
    "                                                   max_target_sequence_length,\n",
    "                                                   len(source_vocab_to_int),\n",
    "                                                   len(target_vocab_to_int),\n",
    "                                                   encoding_embedding_size,\n",
    "                                                   decoding_embedding_size,\n",
    "                                                   rnn_size,\n",
    "                                                   num_layers,\n",
    "                                                   target_vocab_to_int)\n",
    "\n",
    "\n",
    "    training_logits = tf.identity(train_logits.rnn_output, name='logits')\n",
    "    inference_logits = tf.identity(inference_logits.sample_id, name='predictions')\n",
    "\n",
    "    masks = tf.sequence_mask(target_sequence_length, max_target_sequence_length, dtype=tf.float32, name='masks')\n",
    "\n",
    "    with tf.name_scope(\"optimization\"):\n",
    "        # Loss function\n",
    "        cost = tf.contrib.seq2seq.sequence_loss(\n",
    "            training_logits,\n",
    "            targets,\n",
    "            masks)\n",
    "\n",
    "        # Optimizer\n",
    "        optimizer = tf.train.AdamOptimizer(lr)\n",
    "\n",
    "        # Gradient Clipping\n",
    "        gradients = optimizer.compute_gradients(cost)\n",
    "        capped_gradients = [(tf.clip_by_value(grad, -1., 1.), var) for grad, var in gradients if grad is not None]\n",
    "        train_op = optimizer.apply_gradients(capped_gradients)\n"
   ]
  },
  {
   "cell_type": "markdown",
   "metadata": {},
   "source": [
    "Batch and pad the source and target sequences"
   ]
  },
  {
   "cell_type": "code",
   "execution_count": 28,
   "metadata": {
    "collapsed": true
   },
   "outputs": [],
   "source": [
    "\"\"\"\n",
    "DON'T MODIFY ANYTHING IN THIS CELL\n",
    "\"\"\"\n",
    "def pad_sentence_batch(sentence_batch, pad_int):\n",
    "    \"\"\"Pad sentences with <PAD> so that each sentence of a batch has the same length\"\"\"\n",
    "    max_sentence = max([len(sentence) for sentence in sentence_batch])\n",
    "    return [sentence + [pad_int] * (max_sentence - len(sentence)) for sentence in sentence_batch]\n",
    "\n",
    "\n",
    "def get_batches(sources, targets, batch_size, source_pad_int, target_pad_int):\n",
    "    \"\"\"Batch targets, sources, and the lengths of their sentences together\"\"\"\n",
    "    for batch_i in range(0, len(sources)//batch_size):\n",
    "        start_i = batch_i * batch_size\n",
    "\n",
    "        # Slice the right amount for the batch\n",
    "        sources_batch = sources[start_i:start_i + batch_size]\n",
    "        targets_batch = targets[start_i:start_i + batch_size]\n",
    "\n",
    "        # Pad\n",
    "        pad_sources_batch = np.array(pad_sentence_batch(sources_batch, source_pad_int))\n",
    "        pad_targets_batch = np.array(pad_sentence_batch(targets_batch, target_pad_int))\n",
    "\n",
    "        # Need the lengths for the _lengths parameters\n",
    "        pad_targets_lengths = []\n",
    "        for target in pad_targets_batch:\n",
    "            pad_targets_lengths.append(len(target))\n",
    "\n",
    "        pad_source_lengths = []\n",
    "        for source in pad_sources_batch:\n",
    "            pad_source_lengths.append(len(source))\n",
    "\n",
    "        yield pad_sources_batch, pad_targets_batch, pad_source_lengths, pad_targets_lengths\n"
   ]
  },
  {
   "cell_type": "markdown",
   "metadata": {},
   "source": [
    "### Train\n",
    "Train the neural network on the preprocessed data. If you have a hard time getting a good loss, check the forms to see if anyone is having the same problem."
   ]
  },
  {
   "cell_type": "code",
   "execution_count": 29,
   "metadata": {
    "collapsed": false,
    "scrolled": true
   },
   "outputs": [
    {
     "name": "stdout",
     "output_type": "stream",
     "text": [
      "Epoch   0 Batch   50/1077 - Train Accuracy: 0.3559, Validation Accuracy: 0.4180, Loss: 2.8851\n",
      "Epoch   0 Batch  100/1077 - Train Accuracy: 0.4469, Validation Accuracy: 0.4936, Loss: 2.2406\n",
      "Epoch   0 Batch  150/1077 - Train Accuracy: 0.4695, Validation Accuracy: 0.4766, Loss: 1.6662\n",
      "Epoch   0 Batch  200/1077 - Train Accuracy: 0.4176, Validation Accuracy: 0.5192, Loss: 1.3327\n",
      "Epoch   0 Batch  250/1077 - Train Accuracy: 0.4666, Validation Accuracy: 0.4869, Loss: 0.9768\n",
      "Epoch   0 Batch  300/1077 - Train Accuracy: 0.4618, Validation Accuracy: 0.5149, Loss: 0.9567\n",
      "Epoch   0 Batch  350/1077 - Train Accuracy: 0.4574, Validation Accuracy: 0.5334, Loss: 0.8635\n",
      "Epoch   0 Batch  400/1077 - Train Accuracy: 0.5023, Validation Accuracy: 0.5543, Loss: 0.7806\n",
      "Epoch   0 Batch  450/1077 - Train Accuracy: 0.5254, Validation Accuracy: 0.5465, Loss: 0.7229\n",
      "Epoch   0 Batch  500/1077 - Train Accuracy: 0.5555, Validation Accuracy: 0.5732, Loss: 0.7101\n",
      "Epoch   0 Batch  550/1077 - Train Accuracy: 0.5422, Validation Accuracy: 0.6168, Loss: 0.7190\n",
      "Epoch   0 Batch  600/1077 - Train Accuracy: 0.5941, Validation Accuracy: 0.6062, Loss: 0.6061\n",
      "Epoch   0 Batch  650/1077 - Train Accuracy: 0.5883, Validation Accuracy: 0.6211, Loss: 0.6349\n",
      "Epoch   0 Batch  700/1077 - Train Accuracy: 0.5355, Validation Accuracy: 0.5835, Loss: 0.6074\n",
      "Epoch   0 Batch  750/1077 - Train Accuracy: 0.6008, Validation Accuracy: 0.6175, Loss: 0.5757\n",
      "Epoch   0 Batch  800/1077 - Train Accuracy: 0.5938, Validation Accuracy: 0.6325, Loss: 0.5662\n",
      "Epoch   0 Batch  850/1077 - Train Accuracy: 0.6217, Validation Accuracy: 0.6268, Loss: 0.5651\n",
      "Epoch   0 Batch  900/1077 - Train Accuracy: 0.6516, Validation Accuracy: 0.6470, Loss: 0.5117\n",
      "Epoch   0 Batch  950/1077 - Train Accuracy: 0.6124, Validation Accuracy: 0.6523, Loss: 0.4765\n",
      "Epoch   0 Batch 1000/1077 - Train Accuracy: 0.6737, Validation Accuracy: 0.6484, Loss: 0.4399\n",
      "Epoch   0 Batch 1050/1077 - Train Accuracy: 0.5941, Validation Accuracy: 0.6438, Loss: 0.4771\n",
      "Epoch   1 Batch   50/1077 - Train Accuracy: 0.6520, Validation Accuracy: 0.6573, Loss: 0.4449\n",
      "Epoch   1 Batch  100/1077 - Train Accuracy: 0.6703, Validation Accuracy: 0.6811, Loss: 0.4253\n",
      "Epoch   1 Batch  150/1077 - Train Accuracy: 0.6979, Validation Accuracy: 0.6719, Loss: 0.3937\n",
      "Epoch   1 Batch  200/1077 - Train Accuracy: 0.6672, Validation Accuracy: 0.7028, Loss: 0.4018\n",
      "Epoch   1 Batch  250/1077 - Train Accuracy: 0.7109, Validation Accuracy: 0.7013, Loss: 0.3522\n",
      "Epoch   1 Batch  300/1077 - Train Accuracy: 0.7085, Validation Accuracy: 0.7134, Loss: 0.3619\n",
      "Epoch   1 Batch  350/1077 - Train Accuracy: 0.7098, Validation Accuracy: 0.7006, Loss: 0.3474\n",
      "Epoch   1 Batch  400/1077 - Train Accuracy: 0.7316, Validation Accuracy: 0.7234, Loss: 0.3474\n",
      "Epoch   1 Batch  450/1077 - Train Accuracy: 0.7246, Validation Accuracy: 0.7269, Loss: 0.3205\n",
      "Epoch   1 Batch  500/1077 - Train Accuracy: 0.7754, Validation Accuracy: 0.7337, Loss: 0.3236\n",
      "Epoch   1 Batch  550/1077 - Train Accuracy: 0.6980, Validation Accuracy: 0.7219, Loss: 0.3308\n",
      "Epoch   1 Batch  600/1077 - Train Accuracy: 0.7388, Validation Accuracy: 0.7528, Loss: 0.2855\n",
      "Epoch   1 Batch  650/1077 - Train Accuracy: 0.7133, Validation Accuracy: 0.7713, Loss: 0.2940\n",
      "Epoch   1 Batch  700/1077 - Train Accuracy: 0.8008, Validation Accuracy: 0.7543, Loss: 0.2653\n",
      "Epoch   1 Batch  750/1077 - Train Accuracy: 0.7941, Validation Accuracy: 0.7582, Loss: 0.2653\n",
      "Epoch   1 Batch  800/1077 - Train Accuracy: 0.7684, Validation Accuracy: 0.7873, Loss: 0.2505\n",
      "Epoch   1 Batch  850/1077 - Train Accuracy: 0.7359, Validation Accuracy: 0.7930, Loss: 0.2798\n",
      "Epoch   1 Batch  900/1077 - Train Accuracy: 0.8137, Validation Accuracy: 0.7816, Loss: 0.2546\n",
      "Epoch   1 Batch  950/1077 - Train Accuracy: 0.8151, Validation Accuracy: 0.7496, Loss: 0.2282\n",
      "Epoch   1 Batch 1000/1077 - Train Accuracy: 0.8549, Validation Accuracy: 0.8164, Loss: 0.1980\n",
      "Epoch   1 Batch 1050/1077 - Train Accuracy: 0.7797, Validation Accuracy: 0.7834, Loss: 0.2079\n",
      "Epoch   2 Batch   50/1077 - Train Accuracy: 0.8363, Validation Accuracy: 0.7869, Loss: 0.1986\n",
      "Epoch   2 Batch  100/1077 - Train Accuracy: 0.8187, Validation Accuracy: 0.8161, Loss: 0.1978\n",
      "Epoch   2 Batch  150/1077 - Train Accuracy: 0.8240, Validation Accuracy: 0.7919, Loss: 0.1857\n",
      "Epoch   2 Batch  200/1077 - Train Accuracy: 0.8102, Validation Accuracy: 0.8157, Loss: 0.1870\n",
      "Epoch   2 Batch  250/1077 - Train Accuracy: 0.8185, Validation Accuracy: 0.8129, Loss: 0.1630\n",
      "Epoch   2 Batch  300/1077 - Train Accuracy: 0.8590, Validation Accuracy: 0.8161, Loss: 0.1690\n",
      "Epoch   2 Batch  350/1077 - Train Accuracy: 0.8512, Validation Accuracy: 0.8022, Loss: 0.1729\n",
      "Epoch   2 Batch  400/1077 - Train Accuracy: 0.8379, Validation Accuracy: 0.8338, Loss: 0.1847\n",
      "Epoch   2 Batch  450/1077 - Train Accuracy: 0.8637, Validation Accuracy: 0.8022, Loss: 0.1452\n",
      "Epoch   2 Batch  500/1077 - Train Accuracy: 0.8938, Validation Accuracy: 0.8448, Loss: 0.1451\n",
      "Epoch   2 Batch  550/1077 - Train Accuracy: 0.8102, Validation Accuracy: 0.8338, Loss: 0.1499\n",
      "Epoch   2 Batch  600/1077 - Train Accuracy: 0.8709, Validation Accuracy: 0.8487, Loss: 0.1556\n",
      "Epoch   2 Batch  650/1077 - Train Accuracy: 0.8410, Validation Accuracy: 0.8839, Loss: 0.1506\n",
      "Epoch   2 Batch  700/1077 - Train Accuracy: 0.8672, Validation Accuracy: 0.8487, Loss: 0.1211\n",
      "Epoch   2 Batch  750/1077 - Train Accuracy: 0.8664, Validation Accuracy: 0.8622, Loss: 0.1275\n",
      "Epoch   2 Batch  800/1077 - Train Accuracy: 0.8641, Validation Accuracy: 0.8533, Loss: 0.1384\n",
      "Epoch   2 Batch  850/1077 - Train Accuracy: 0.8344, Validation Accuracy: 0.8722, Loss: 0.1604\n",
      "Epoch   2 Batch  900/1077 - Train Accuracy: 0.9016, Validation Accuracy: 0.8739, Loss: 0.1416\n",
      "Epoch   2 Batch  950/1077 - Train Accuracy: 0.8817, Validation Accuracy: 0.8796, Loss: 0.1171\n",
      "Epoch   2 Batch 1000/1077 - Train Accuracy: 0.8746, Validation Accuracy: 0.8530, Loss: 0.1189\n",
      "Epoch   2 Batch 1050/1077 - Train Accuracy: 0.8531, Validation Accuracy: 0.8768, Loss: 0.1164\n",
      "Epoch   3 Batch   50/1077 - Train Accuracy: 0.9184, Validation Accuracy: 0.8786, Loss: 0.1178\n",
      "Epoch   3 Batch  100/1077 - Train Accuracy: 0.8742, Validation Accuracy: 0.8746, Loss: 0.1141\n",
      "Epoch   3 Batch  150/1077 - Train Accuracy: 0.8903, Validation Accuracy: 0.8761, Loss: 0.1132\n",
      "Epoch   3 Batch  200/1077 - Train Accuracy: 0.8965, Validation Accuracy: 0.8718, Loss: 0.1203\n",
      "Epoch   3 Batch  250/1077 - Train Accuracy: 0.8970, Validation Accuracy: 0.8814, Loss: 0.0957\n",
      "Epoch   3 Batch  300/1077 - Train Accuracy: 0.9100, Validation Accuracy: 0.8800, Loss: 0.1008\n",
      "Epoch   3 Batch  350/1077 - Train Accuracy: 0.9020, Validation Accuracy: 0.8683, Loss: 0.1101\n",
      "Epoch   3 Batch  400/1077 - Train Accuracy: 0.8754, Validation Accuracy: 0.8835, Loss: 0.1173\n",
      "Epoch   3 Batch  450/1077 - Train Accuracy: 0.8992, Validation Accuracy: 0.8661, Loss: 0.1122\n",
      "Epoch   3 Batch  500/1077 - Train Accuracy: 0.9016, Validation Accuracy: 0.8878, Loss: 0.0885\n",
      "Epoch   3 Batch  550/1077 - Train Accuracy: 0.8277, Validation Accuracy: 0.8505, Loss: 0.0960\n",
      "Epoch   3 Batch  600/1077 - Train Accuracy: 0.9115, Validation Accuracy: 0.9034, Loss: 0.1030\n",
      "Epoch   3 Batch  650/1077 - Train Accuracy: 0.9094, Validation Accuracy: 0.8789, Loss: 0.0887\n",
      "Epoch   3 Batch  700/1077 - Train Accuracy: 0.9437, Validation Accuracy: 0.8896, Loss: 0.0860\n",
      "Epoch   3 Batch  750/1077 - Train Accuracy: 0.9230, Validation Accuracy: 0.9027, Loss: 0.0965\n",
      "Epoch   3 Batch  800/1077 - Train Accuracy: 0.9105, Validation Accuracy: 0.8711, Loss: 0.1067\n",
      "Epoch   3 Batch  850/1077 - Train Accuracy: 0.9092, Validation Accuracy: 0.8938, Loss: 0.1217\n",
      "Epoch   3 Batch  900/1077 - Train Accuracy: 0.9324, Validation Accuracy: 0.8849, Loss: 0.0967\n",
      "Epoch   3 Batch  950/1077 - Train Accuracy: 0.9048, Validation Accuracy: 0.8853, Loss: 0.0897\n",
      "Epoch   3 Batch 1000/1077 - Train Accuracy: 0.9089, Validation Accuracy: 0.8952, Loss: 0.0900\n",
      "Epoch   3 Batch 1050/1077 - Train Accuracy: 0.8844, Validation Accuracy: 0.8999, Loss: 0.0891\n",
      "Epoch   4 Batch   50/1077 - Train Accuracy: 0.9012, Validation Accuracy: 0.9084, Loss: 0.0871\n",
      "Epoch   4 Batch  100/1077 - Train Accuracy: 0.9137, Validation Accuracy: 0.8750, Loss: 0.0818\n",
      "Epoch   4 Batch  150/1077 - Train Accuracy: 0.8895, Validation Accuracy: 0.8750, Loss: 0.0982\n",
      "Epoch   4 Batch  200/1077 - Train Accuracy: 0.9164, Validation Accuracy: 0.9002, Loss: 0.0769\n",
      "Epoch   4 Batch  250/1077 - Train Accuracy: 0.9123, Validation Accuracy: 0.9020, Loss: 0.0784\n",
      "Epoch   4 Batch  300/1077 - Train Accuracy: 0.9424, Validation Accuracy: 0.8949, Loss: 0.0771\n",
      "Epoch   4 Batch  350/1077 - Train Accuracy: 0.9285, Validation Accuracy: 0.8860, Loss: 0.0841\n",
      "Epoch   4 Batch  400/1077 - Train Accuracy: 0.8906, Validation Accuracy: 0.8920, Loss: 0.0920\n",
      "Epoch   4 Batch  450/1077 - Train Accuracy: 0.9059, Validation Accuracy: 0.8917, Loss: 0.0827\n",
      "Epoch   4 Batch  500/1077 - Train Accuracy: 0.9117, Validation Accuracy: 0.9052, Loss: 0.0697\n",
      "Epoch   4 Batch  550/1077 - Train Accuracy: 0.8930, Validation Accuracy: 0.8881, Loss: 0.0829\n",
      "Epoch   4 Batch  600/1077 - Train Accuracy: 0.9170, Validation Accuracy: 0.9002, Loss: 0.0942\n",
      "Epoch   4 Batch  650/1077 - Train Accuracy: 0.9207, Validation Accuracy: 0.9112, Loss: 0.0735\n",
      "Epoch   4 Batch  700/1077 - Train Accuracy: 0.9461, Validation Accuracy: 0.9155, Loss: 0.0746\n",
      "Epoch   4 Batch  750/1077 - Train Accuracy: 0.9398, Validation Accuracy: 0.9158, Loss: 0.0746\n",
      "Epoch   4 Batch  800/1077 - Train Accuracy: 0.8953, Validation Accuracy: 0.8967, Loss: 0.0741\n",
      "Epoch   4 Batch  850/1077 - Train Accuracy: 0.9055, Validation Accuracy: 0.9148, Loss: 0.1012\n",
      "Epoch   4 Batch  900/1077 - Train Accuracy: 0.9367, Validation Accuracy: 0.9237, Loss: 0.0800\n",
      "Epoch   4 Batch  950/1077 - Train Accuracy: 0.9193, Validation Accuracy: 0.8928, Loss: 0.0691\n",
      "Epoch   4 Batch 1000/1077 - Train Accuracy: 0.9196, Validation Accuracy: 0.8991, Loss: 0.0788\n",
      "Epoch   4 Batch 1050/1077 - Train Accuracy: 0.9195, Validation Accuracy: 0.9070, Loss: 0.0691\n",
      "Epoch   5 Batch   50/1077 - Train Accuracy: 0.9258, Validation Accuracy: 0.9141, Loss: 0.0678\n",
      "Epoch   5 Batch  100/1077 - Train Accuracy: 0.9332, Validation Accuracy: 0.9226, Loss: 0.0762\n",
      "Epoch   5 Batch  150/1077 - Train Accuracy: 0.9103, Validation Accuracy: 0.9070, Loss: 0.0820\n",
      "Epoch   5 Batch  200/1077 - Train Accuracy: 0.9250, Validation Accuracy: 0.9169, Loss: 0.0642\n",
      "Epoch   5 Batch  250/1077 - Train Accuracy: 0.9112, Validation Accuracy: 0.9258, Loss: 0.0690\n",
      "Epoch   5 Batch  300/1077 - Train Accuracy: 0.9375, Validation Accuracy: 0.9222, Loss: 0.0637\n",
      "Epoch   5 Batch  350/1077 - Train Accuracy: 0.9219, Validation Accuracy: 0.8970, Loss: 0.0698\n",
      "Epoch   5 Batch  400/1077 - Train Accuracy: 0.9187, Validation Accuracy: 0.8984, Loss: 0.0768\n",
      "Epoch   5 Batch  450/1077 - Train Accuracy: 0.9254, Validation Accuracy: 0.9165, Loss: 0.0765\n",
      "Epoch   5 Batch  500/1077 - Train Accuracy: 0.9336, Validation Accuracy: 0.9240, Loss: 0.0571\n",
      "Epoch   5 Batch  550/1077 - Train Accuracy: 0.9199, Validation Accuracy: 0.9141, Loss: 0.0561\n",
      "Epoch   5 Batch  600/1077 - Train Accuracy: 0.9036, Validation Accuracy: 0.9141, Loss: 0.0893\n",
      "Epoch   5 Batch  650/1077 - Train Accuracy: 0.9324, Validation Accuracy: 0.9268, Loss: 0.0670\n",
      "Epoch   5 Batch  700/1077 - Train Accuracy: 0.9406, Validation Accuracy: 0.9396, Loss: 0.0624\n",
      "Epoch   5 Batch  750/1077 - Train Accuracy: 0.9383, Validation Accuracy: 0.9212, Loss: 0.0663\n",
      "Epoch   5 Batch  800/1077 - Train Accuracy: 0.9320, Validation Accuracy: 0.9212, Loss: 0.0618\n",
      "Epoch   5 Batch  850/1077 - Train Accuracy: 0.9081, Validation Accuracy: 0.9084, Loss: 0.0975\n",
      "Epoch   5 Batch  900/1077 - Train Accuracy: 0.9172, Validation Accuracy: 0.9144, Loss: 0.0778\n",
      "Epoch   5 Batch  950/1077 - Train Accuracy: 0.9375, Validation Accuracy: 0.9052, Loss: 0.0579\n",
      "Epoch   5 Batch 1000/1077 - Train Accuracy: 0.9178, Validation Accuracy: 0.9183, Loss: 0.0624\n",
      "Epoch   5 Batch 1050/1077 - Train Accuracy: 0.9250, Validation Accuracy: 0.9187, Loss: 0.0575\n",
      "Epoch   6 Batch   50/1077 - Train Accuracy: 0.9492, Validation Accuracy: 0.9105, Loss: 0.0646\n",
      "Epoch   6 Batch  100/1077 - Train Accuracy: 0.9328, Validation Accuracy: 0.9009, Loss: 0.0697\n",
      "Epoch   6 Batch  150/1077 - Train Accuracy: 0.9096, Validation Accuracy: 0.9130, Loss: 0.0711\n",
      "Epoch   6 Batch  200/1077 - Train Accuracy: 0.9273, Validation Accuracy: 0.9134, Loss: 0.0626\n",
      "Epoch   6 Batch  250/1077 - Train Accuracy: 0.9325, Validation Accuracy: 0.8988, Loss: 0.0619\n",
      "Epoch   6 Batch  300/1077 - Train Accuracy: 0.9391, Validation Accuracy: 0.9077, Loss: 0.0648\n",
      "Epoch   6 Batch  350/1077 - Train Accuracy: 0.9203, Validation Accuracy: 0.9048, Loss: 0.0637\n",
      "Epoch   6 Batch  400/1077 - Train Accuracy: 0.9090, Validation Accuracy: 0.9105, Loss: 0.0822\n",
      "Epoch   6 Batch  450/1077 - Train Accuracy: 0.9289, Validation Accuracy: 0.9229, Loss: 0.0713\n",
      "Epoch   6 Batch  500/1077 - Train Accuracy: 0.9379, Validation Accuracy: 0.9197, Loss: 0.0568\n",
      "Epoch   6 Batch  550/1077 - Train Accuracy: 0.9160, Validation Accuracy: 0.9254, Loss: 0.0557\n",
      "Epoch   6 Batch  600/1077 - Train Accuracy: 0.9156, Validation Accuracy: 0.9304, Loss: 0.0672\n",
      "Epoch   6 Batch  650/1077 - Train Accuracy: 0.9297, Validation Accuracy: 0.9197, Loss: 0.0639\n",
      "Epoch   6 Batch  700/1077 - Train Accuracy: 0.9531, Validation Accuracy: 0.9002, Loss: 0.0637\n",
      "Epoch   6 Batch  750/1077 - Train Accuracy: 0.9316, Validation Accuracy: 0.9013, Loss: 0.0660\n",
      "Epoch   6 Batch  800/1077 - Train Accuracy: 0.9328, Validation Accuracy: 0.9240, Loss: 0.0649\n",
      "Epoch   6 Batch  850/1077 - Train Accuracy: 0.8958, Validation Accuracy: 0.9251, Loss: 0.0965\n",
      "Epoch   6 Batch  900/1077 - Train Accuracy: 0.9242, Validation Accuracy: 0.9258, Loss: 0.0706\n",
      "Epoch   6 Batch  950/1077 - Train Accuracy: 0.9196, Validation Accuracy: 0.9208, Loss: 0.0553\n",
      "Epoch   6 Batch 1000/1077 - Train Accuracy: 0.9167, Validation Accuracy: 0.9006, Loss: 0.0648\n",
      "Epoch   6 Batch 1050/1077 - Train Accuracy: 0.9344, Validation Accuracy: 0.9386, Loss: 0.0592\n",
      "Epoch   7 Batch   50/1077 - Train Accuracy: 0.9324, Validation Accuracy: 0.9151, Loss: 0.0567\n",
      "Epoch   7 Batch  100/1077 - Train Accuracy: 0.9398, Validation Accuracy: 0.9176, Loss: 0.0713\n",
      "Epoch   7 Batch  150/1077 - Train Accuracy: 0.9379, Validation Accuracy: 0.9134, Loss: 0.0748\n",
      "Epoch   7 Batch  200/1077 - Train Accuracy: 0.9367, Validation Accuracy: 0.9091, Loss: 0.0581\n",
      "Epoch   7 Batch  250/1077 - Train Accuracy: 0.9311, Validation Accuracy: 0.8924, Loss: 0.0591\n",
      "Epoch   7 Batch  300/1077 - Train Accuracy: 0.9659, Validation Accuracy: 0.8988, Loss: 0.0526\n",
      "Epoch   7 Batch  350/1077 - Train Accuracy: 0.9230, Validation Accuracy: 0.9041, Loss: 0.0577\n",
      "Epoch   7 Batch  400/1077 - Train Accuracy: 0.9355, Validation Accuracy: 0.9183, Loss: 0.0738\n",
      "Epoch   7 Batch  450/1077 - Train Accuracy: 0.9305, Validation Accuracy: 0.9109, Loss: 0.0675\n",
      "Epoch   7 Batch  500/1077 - Train Accuracy: 0.9457, Validation Accuracy: 0.8913, Loss: 0.0460\n",
      "Epoch   7 Batch  550/1077 - Train Accuracy: 0.9137, Validation Accuracy: 0.9013, Loss: 0.0509\n",
      "Epoch   7 Batch  600/1077 - Train Accuracy: 0.9092, Validation Accuracy: 0.9041, Loss: 0.0765\n",
      "Epoch   7 Batch  650/1077 - Train Accuracy: 0.9391, Validation Accuracy: 0.9130, Loss: 0.0539\n",
      "Epoch   7 Batch  700/1077 - Train Accuracy: 0.9359, Validation Accuracy: 0.9094, Loss: 0.0617\n",
      "Epoch   7 Batch  750/1077 - Train Accuracy: 0.9316, Validation Accuracy: 0.9183, Loss: 0.0568\n",
      "Epoch   7 Batch  800/1077 - Train Accuracy: 0.9168, Validation Accuracy: 0.9201, Loss: 0.0574\n",
      "Epoch   7 Batch  850/1077 - Train Accuracy: 0.9356, Validation Accuracy: 0.9325, Loss: 0.0848\n",
      "Epoch   7 Batch  900/1077 - Train Accuracy: 0.9270, Validation Accuracy: 0.9098, Loss: 0.0671\n",
      "Epoch   7 Batch  950/1077 - Train Accuracy: 0.9330, Validation Accuracy: 0.8942, Loss: 0.0506\n",
      "Epoch   7 Batch 1000/1077 - Train Accuracy: 0.9356, Validation Accuracy: 0.9251, Loss: 0.0569\n",
      "Epoch   7 Batch 1050/1077 - Train Accuracy: 0.9527, Validation Accuracy: 0.9038, Loss: 0.0496\n",
      "Epoch   8 Batch   50/1077 - Train Accuracy: 0.9434, Validation Accuracy: 0.9286, Loss: 0.0667\n",
      "Epoch   8 Batch  100/1077 - Train Accuracy: 0.9430, Validation Accuracy: 0.9197, Loss: 0.0554\n",
      "Epoch   8 Batch  150/1077 - Train Accuracy: 0.9129, Validation Accuracy: 0.9254, Loss: 0.0614\n",
      "Epoch   8 Batch  200/1077 - Train Accuracy: 0.9332, Validation Accuracy: 0.9141, Loss: 0.0604\n",
      "Epoch   8 Batch  250/1077 - Train Accuracy: 0.9247, Validation Accuracy: 0.9205, Loss: 0.0583\n",
      "Epoch   8 Batch  300/1077 - Train Accuracy: 0.9609, Validation Accuracy: 0.9229, Loss: 0.0620\n",
      "Epoch   8 Batch  350/1077 - Train Accuracy: 0.9203, Validation Accuracy: 0.9247, Loss: 0.0544\n",
      "Epoch   8 Batch  400/1077 - Train Accuracy: 0.9348, Validation Accuracy: 0.9215, Loss: 0.0701\n",
      "Epoch   8 Batch  450/1077 - Train Accuracy: 0.9379, Validation Accuracy: 0.8991, Loss: 0.0642\n",
      "Epoch   8 Batch  500/1077 - Train Accuracy: 0.9352, Validation Accuracy: 0.9176, Loss: 0.0500\n",
      "Epoch   8 Batch  550/1077 - Train Accuracy: 0.9090, Validation Accuracy: 0.9098, Loss: 0.0492\n",
      "Epoch   8 Batch  600/1077 - Train Accuracy: 0.9200, Validation Accuracy: 0.9368, Loss: 0.0619\n",
      "Epoch   8 Batch  650/1077 - Train Accuracy: 0.9590, Validation Accuracy: 0.9212, Loss: 0.0465\n",
      "Epoch   8 Batch  700/1077 - Train Accuracy: 0.9543, Validation Accuracy: 0.9141, Loss: 0.0483\n",
      "Epoch   8 Batch  750/1077 - Train Accuracy: 0.9449, Validation Accuracy: 0.9130, Loss: 0.0514\n",
      "Epoch   8 Batch  800/1077 - Train Accuracy: 0.9227, Validation Accuracy: 0.9290, Loss: 0.0595\n",
      "Epoch   8 Batch  850/1077 - Train Accuracy: 0.9118, Validation Accuracy: 0.9219, Loss: 0.0881\n",
      "Epoch   8 Batch  900/1077 - Train Accuracy: 0.9328, Validation Accuracy: 0.9031, Loss: 0.0647\n",
      "Epoch   8 Batch  950/1077 - Train Accuracy: 0.9435, Validation Accuracy: 0.9038, Loss: 0.0460\n",
      "Epoch   8 Batch 1000/1077 - Train Accuracy: 0.9364, Validation Accuracy: 0.9194, Loss: 0.0575\n",
      "Epoch   8 Batch 1050/1077 - Train Accuracy: 0.9379, Validation Accuracy: 0.9229, Loss: 0.0478\n",
      "Epoch   9 Batch   50/1077 - Train Accuracy: 0.9379, Validation Accuracy: 0.9151, Loss: 0.0628\n",
      "Epoch   9 Batch  100/1077 - Train Accuracy: 0.9250, Validation Accuracy: 0.9105, Loss: 0.0505\n",
      "Epoch   9 Batch  150/1077 - Train Accuracy: 0.9263, Validation Accuracy: 0.9141, Loss: 0.0570\n",
      "Epoch   9 Batch  200/1077 - Train Accuracy: 0.9273, Validation Accuracy: 0.9247, Loss: 0.0551\n",
      "Epoch   9 Batch  250/1077 - Train Accuracy: 0.9276, Validation Accuracy: 0.9325, Loss: 0.0553\n",
      "Epoch   9 Batch  300/1077 - Train Accuracy: 0.9692, Validation Accuracy: 0.9197, Loss: 0.0433\n",
      "Epoch   9 Batch  350/1077 - Train Accuracy: 0.9203, Validation Accuracy: 0.9244, Loss: 0.0587\n",
      "Epoch   9 Batch  400/1077 - Train Accuracy: 0.9477, Validation Accuracy: 0.9237, Loss: 0.0587\n",
      "Epoch   9 Batch  450/1077 - Train Accuracy: 0.9262, Validation Accuracy: 0.9173, Loss: 0.0603\n",
      "Epoch   9 Batch  500/1077 - Train Accuracy: 0.9426, Validation Accuracy: 0.9332, Loss: 0.0473\n",
      "Epoch   9 Batch  550/1077 - Train Accuracy: 0.9187, Validation Accuracy: 0.9229, Loss: 0.0494\n",
      "Epoch   9 Batch  600/1077 - Train Accuracy: 0.9178, Validation Accuracy: 0.9176, Loss: 0.0599\n",
      "Epoch   9 Batch  650/1077 - Train Accuracy: 0.9320, Validation Accuracy: 0.9286, Loss: 0.0549\n",
      "Epoch   9 Batch  700/1077 - Train Accuracy: 0.9645, Validation Accuracy: 0.9286, Loss: 0.0495\n",
      "Epoch   9 Batch  750/1077 - Train Accuracy: 0.9406, Validation Accuracy: 0.9165, Loss: 0.0436\n",
      "Epoch   9 Batch  800/1077 - Train Accuracy: 0.9398, Validation Accuracy: 0.9389, Loss: 0.0559\n",
      "Epoch   9 Batch  850/1077 - Train Accuracy: 0.9133, Validation Accuracy: 0.9297, Loss: 0.0884\n",
      "Epoch   9 Batch  900/1077 - Train Accuracy: 0.9328, Validation Accuracy: 0.9467, Loss: 0.0575\n",
      "Epoch   9 Batch  950/1077 - Train Accuracy: 0.9338, Validation Accuracy: 0.9102, Loss: 0.0520\n",
      "Epoch   9 Batch 1000/1077 - Train Accuracy: 0.9096, Validation Accuracy: 0.9105, Loss: 0.0431\n",
      "Epoch   9 Batch 1050/1077 - Train Accuracy: 0.9449, Validation Accuracy: 0.9439, Loss: 0.0456\n",
      "Model Trained and Saved\n"
     ]
    }
   ],
   "source": [
    "\"\"\"\n",
    "DON'T MODIFY ANYTHING IN THIS CELL\n",
    "\"\"\"\n",
    "def get_accuracy(target, logits):\n",
    "    \"\"\"\n",
    "    Calculate accuracy\n",
    "    \"\"\"\n",
    "    max_seq = max(target.shape[1], logits.shape[1])\n",
    "    if max_seq - target.shape[1]:\n",
    "        target = np.pad(\n",
    "            target,\n",
    "            [(0,0),(0,max_seq - target.shape[1])],\n",
    "            'constant')\n",
    "    if max_seq - logits.shape[1]:\n",
    "        logits = np.pad(\n",
    "            logits,\n",
    "            [(0,0),(0,max_seq - logits.shape[1])],\n",
    "            'constant')\n",
    "\n",
    "    return np.mean(np.equal(target, logits))\n",
    "\n",
    "# Split data to training and validation sets\n",
    "train_source = source_int_text[batch_size:]\n",
    "train_target = target_int_text[batch_size:]\n",
    "valid_source = source_int_text[:batch_size]\n",
    "valid_target = target_int_text[:batch_size]\n",
    "(valid_sources_batch, valid_targets_batch, valid_sources_lengths, valid_targets_lengths ) = next(get_batches(valid_source,\n",
    "                                                                                                             valid_target,\n",
    "                                                                                                             batch_size,\n",
    "                                                                                                             source_vocab_to_int['<PAD>'],\n",
    "                                                                                                             target_vocab_to_int['<PAD>']))                                                                                                  \n",
    "with tf.Session(graph=train_graph) as sess:\n",
    "    sess.run(tf.global_variables_initializer())\n",
    "\n",
    "    for epoch_i in range(epochs):\n",
    "        for batch_i, (source_batch, target_batch, sources_lengths, targets_lengths) in enumerate(\n",
    "                get_batches(train_source, train_target, batch_size,\n",
    "                            source_vocab_to_int['<PAD>'],\n",
    "                            target_vocab_to_int['<PAD>'])):\n",
    "\n",
    "            _, loss = sess.run(\n",
    "                [train_op, cost],\n",
    "                {input_data: source_batch,\n",
    "                 targets: target_batch,\n",
    "                 lr: learning_rate,\n",
    "                 target_sequence_length: targets_lengths,\n",
    "                 source_sequence_length: sources_lengths,\n",
    "                 keep_prob: keep_probability})\n",
    "\n",
    "\n",
    "            if batch_i % display_step == 0 and batch_i > 0:\n",
    "\n",
    "\n",
    "                batch_train_logits = sess.run(\n",
    "                    inference_logits,\n",
    "                    {input_data: source_batch,\n",
    "                     source_sequence_length: sources_lengths,\n",
    "                     target_sequence_length: targets_lengths,\n",
    "                     keep_prob: 1.0})\n",
    "\n",
    "\n",
    "                batch_valid_logits = sess.run(\n",
    "                    inference_logits,\n",
    "                    {input_data: valid_sources_batch,\n",
    "                     source_sequence_length: valid_sources_lengths,\n",
    "                     target_sequence_length: valid_targets_lengths,\n",
    "                     keep_prob: 1.0})\n",
    "\n",
    "                train_acc = get_accuracy(target_batch, batch_train_logits)\n",
    "\n",
    "                valid_acc = get_accuracy(valid_targets_batch, batch_valid_logits)\n",
    "\n",
    "                print('Epoch {:>3} Batch {:>4}/{} - Train Accuracy: {:>6.4f}, Validation Accuracy: {:>6.4f}, Loss: {:>6.4f}'\n",
    "                      .format(epoch_i, batch_i, len(source_int_text) // batch_size, train_acc, valid_acc, loss))\n",
    "\n",
    "    # Save Model\n",
    "    saver = tf.train.Saver()\n",
    "    saver.save(sess, save_path)\n",
    "    print('Model Trained and Saved')"
   ]
  },
  {
   "cell_type": "markdown",
   "metadata": {},
   "source": [
    "### Save Parameters\n",
    "Save the `batch_size` and `save_path` parameters for inference."
   ]
  },
  {
   "cell_type": "code",
   "execution_count": 30,
   "metadata": {
    "collapsed": true
   },
   "outputs": [],
   "source": [
    "\"\"\"\n",
    "DON'T MODIFY ANYTHING IN THIS CELL\n",
    "\"\"\"\n",
    "# Save parameters for checkpoint\n",
    "helper.save_params(save_path)"
   ]
  },
  {
   "cell_type": "markdown",
   "metadata": {},
   "source": [
    "# Checkpoint"
   ]
  },
  {
   "cell_type": "code",
   "execution_count": 31,
   "metadata": {
    "collapsed": true
   },
   "outputs": [],
   "source": [
    "\"\"\"\n",
    "DON'T MODIFY ANYTHING IN THIS CELL\n",
    "\"\"\"\n",
    "import tensorflow as tf\n",
    "import numpy as np\n",
    "import helper\n",
    "import problem_unittests as tests\n",
    "\n",
    "_, (source_vocab_to_int, target_vocab_to_int), (source_int_to_vocab, target_int_to_vocab) = helper.load_preprocess()\n",
    "load_path = helper.load_params()"
   ]
  },
  {
   "cell_type": "markdown",
   "metadata": {},
   "source": [
    "## Sentence to Sequence\n",
    "To feed a sentence into the model for translation, you first need to preprocess it.  Implement the function `sentence_to_seq()` to preprocess new sentences.\n",
    "\n",
    "- Convert the sentence to lowercase\n",
    "- Convert words into ids using `vocab_to_int`\n",
    " - Convert words not in the vocabulary, to the `<UNK>` word id."
   ]
  },
  {
   "cell_type": "code",
   "execution_count": 32,
   "metadata": {
    "collapsed": false
   },
   "outputs": [
    {
     "name": "stdout",
     "output_type": "stream",
     "text": [
      "Tests Passed\n"
     ]
    }
   ],
   "source": [
    "def sentence_to_seq(sentence, vocab_to_int):\n",
    "    \"\"\"\n",
    "    Convert a sentence to a sequence of ids\n",
    "    :param sentence: String\n",
    "    :param vocab_to_int: Dictionary to go from the words to an id\n",
    "    :return: List of word ids\n",
    "    \"\"\"\n",
    "    # TODO: Implement Function\n",
    "    s_lower = sentence.lower()\n",
    "    word_ids = []\n",
    "    for s in s_lower.split():\n",
    "        if vocab_to_int.get(s):\n",
    "            word_ids.append(vocab_to_int[s])\n",
    "        else:\n",
    "            word_ids.append(vocab_to_int['<UNK>'])\n",
    "\n",
    "    return word_ids\n",
    "\n",
    "\n",
    "\"\"\"\n",
    "DON'T MODIFY ANYTHING IN THIS CELL THAT IS BELOW THIS LINE\n",
    "\"\"\"\n",
    "tests.test_sentence_to_seq(sentence_to_seq)"
   ]
  },
  {
   "cell_type": "markdown",
   "metadata": {},
   "source": [
    "## Translate\n",
    "This will translate `translate_sentence` from English to French."
   ]
  },
  {
   "cell_type": "code",
   "execution_count": 34,
   "metadata": {
    "collapsed": false
   },
   "outputs": [
    {
     "name": "stdout",
     "output_type": "stream",
     "text": [
      "INFO:tensorflow:Restoring parameters from checkpoints/dev\n"
     ]
    },
    {
     "name": "stderr",
     "output_type": "stream",
     "text": [
      "INFO:tensorflow:Restoring parameters from checkpoints/dev\n"
     ]
    },
    {
     "name": "stdout",
     "output_type": "stream",
     "text": [
      "Input\n",
      "  Word Ids:      [50, 21, 128, 41, 6, 229, 4]\n",
      "  English Words: ['he', 'saw', 'a', 'old', 'yellow', 'truck', '.']\n",
      "\n",
      "Prediction\n",
      "  Word Ids:      [150, 17, 298, 55, 306, 310, 280, 1]\n",
      "  French Words: elle ne d' nouveau camion bleu . <EOS>\n"
     ]
    }
   ],
   "source": [
    "translate_sentence = 'he saw a old yellow truck .'\n",
    "\n",
    "\n",
    "\"\"\"\n",
    "DON'T MODIFY ANYTHING IN THIS CELL\n",
    "\"\"\"\n",
    "translate_sentence = sentence_to_seq(translate_sentence, source_vocab_to_int)\n",
    "\n",
    "loaded_graph = tf.Graph()\n",
    "with tf.Session(graph=loaded_graph) as sess:\n",
    "    # Load saved model\n",
    "    loader = tf.train.import_meta_graph(load_path + '.meta')\n",
    "    loader.restore(sess, load_path)\n",
    "\n",
    "    input_data = loaded_graph.get_tensor_by_name('input:0')\n",
    "    logits = loaded_graph.get_tensor_by_name('predictions:0')\n",
    "    target_sequence_length = loaded_graph.get_tensor_by_name('target_sequence_length:0')\n",
    "    source_sequence_length = loaded_graph.get_tensor_by_name('source_sequence_length:0')\n",
    "    keep_prob = loaded_graph.get_tensor_by_name('keep_prob:0')\n",
    "\n",
    "    translate_logits = sess.run(logits, {input_data: [translate_sentence]*batch_size,\n",
    "                                         target_sequence_length: [len(translate_sentence)*2]*batch_size,\n",
    "                                         source_sequence_length: [len(translate_sentence)]*batch_size,\n",
    "                                         keep_prob: 1.0})[0]\n",
    "\n",
    "print('Input')\n",
    "print('  Word Ids:      {}'.format([i for i in translate_sentence]))\n",
    "print('  English Words: {}'.format([source_int_to_vocab[i] for i in translate_sentence]))\n",
    "\n",
    "print('\\nPrediction')\n",
    "print('  Word Ids:      {}'.format([i for i in translate_logits]))\n",
    "print('  French Words: {}'.format(\" \".join([target_int_to_vocab[i] for i in translate_logits])))\n"
   ]
  },
  {
   "cell_type": "markdown",
   "metadata": {},
   "source": [
    "## Imperfect Translation\n",
    "You might notice that some sentences translate better than others.  Since the dataset you're using only has a vocabulary of 227 English words of the thousands that you use, you're only going to see good results using these words.  For this project, you don't need a perfect translation. However, if you want to create a better translation model, you'll need better data.\n",
    "\n",
    "You can train on the [WMT10 French-English corpus](http://www.statmt.org/wmt10/training-giga-fren.tar).  This dataset has more vocabulary and richer in topics discussed.  However, this will take you days to train, so make sure you've a GPU and the neural network is performing well on dataset we provided.  Just make sure you play with the WMT10 corpus after you've submitted this project.\n",
    "## Submitting This Project\n",
    "When submitting this project, make sure to run all the cells before saving the notebook. Save the notebook file as \"dlnd_language_translation.ipynb\" and save it as a HTML file under \"File\" -> \"Download as\". Include the \"helper.py\" and \"problem_unittests.py\" files in your submission."
   ]
  }
 ],
 "metadata": {
  "anaconda-cloud": {},
  "kernelspec": {
   "display_name": "Python 3",
   "language": "python",
   "name": "python3"
  },
  "language_info": {
   "codemirror_mode": {
    "name": "ipython",
    "version": 3
   },
   "file_extension": ".py",
   "mimetype": "text/x-python",
   "name": "python",
   "nbconvert_exporter": "python",
   "pygments_lexer": "ipython3",
   "version": "3.5.4"
  }
 },
 "nbformat": 4,
 "nbformat_minor": 1
}
